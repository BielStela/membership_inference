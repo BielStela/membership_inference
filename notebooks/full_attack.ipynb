{
 "cells": [
  {
   "cell_type": "markdown",
   "metadata": {},
   "source": [
    "# Attacker model\n",
    "\n",
    "Here we will put it all togheter using the generated synthetic data from `data_synthesis_playground.ipynb`"
   ]
  },
  {
   "cell_type": "code",
   "execution_count": 1,
   "metadata": {},
   "outputs": [],
   "source": [
    "from mblearn import AttackModels, ShadowModels"
   ]
  },
  {
   "cell_type": "code",
   "execution_count": 2,
   "metadata": {},
   "outputs": [],
   "source": [
    "from sklearn.ensemble import RandomForestClassifier\n",
    "from sklearn.datasets import load_wine\n",
    "from sklearn.preprocessing import MinMaxScaler\n",
    "from sklearn.model_selection import train_test_split\n",
    "import pandas as pd\n",
    "import numpy as np"
   ]
  },
  {
   "cell_type": "markdown",
   "metadata": {},
   "source": [
    "First we need to make a target model (we will use RandomForest with 100 estimators)"
   ]
  },
  {
   "cell_type": "markdown",
   "metadata": {},
   "source": [
    "## Target model\n",
    "\n",
    "We are going to use the wine datasetm which have 13 features and 3 classes"
   ]
  },
  {
   "cell_type": "code",
   "execution_count": 3,
   "metadata": {},
   "outputs": [],
   "source": [
    "rf_target = RandomForestClassifier(n_estimators=100)\n",
    "data, target = load_wine(return_X_y=True)"
   ]
  },
  {
   "cell_type": "code",
   "execution_count": 4,
   "metadata": {},
   "outputs": [],
   "source": [
    "scaler = MinMaxScaler()\n",
    "data_std = scaler.fit_transform(data)\n",
    "\n",
    "# split to test membership in X_train\n",
    "X_train, X_test, y_train, y_test = train_test_split(data_std, target, test_size=0.4)\n",
    "\n",
    "rf_target.fit(X_train, y_train);"
   ]
  },
  {
   "cell_type": "markdown",
   "metadata": {},
   "source": [
    "## Shadow model\n",
    "\n",
    "Now train the Shadow models with synthetic data and the same learner."
   ]
  },
  {
   "cell_type": "code",
   "execution_count": 5,
   "metadata": {},
   "outputs": [
    {
     "data": {
      "text/html": [
       "<div>\n",
       "<style scoped>\n",
       "    .dataframe tbody tr th:only-of-type {\n",
       "        vertical-align: middle;\n",
       "    }\n",
       "\n",
       "    .dataframe tbody tr th {\n",
       "        vertical-align: top;\n",
       "    }\n",
       "\n",
       "    .dataframe thead th {\n",
       "        text-align: right;\n",
       "    }\n",
       "</style>\n",
       "<table border=\"1\" class=\"dataframe\">\n",
       "  <thead>\n",
       "    <tr style=\"text-align: right;\">\n",
       "      <th></th>\n",
       "      <th>0</th>\n",
       "      <th>1</th>\n",
       "      <th>2</th>\n",
       "      <th>3</th>\n",
       "      <th>4</th>\n",
       "      <th>5</th>\n",
       "      <th>6</th>\n",
       "      <th>7</th>\n",
       "      <th>8</th>\n",
       "      <th>9</th>\n",
       "      <th>10</th>\n",
       "      <th>11</th>\n",
       "      <th>12</th>\n",
       "      <th>label</th>\n",
       "    </tr>\n",
       "  </thead>\n",
       "  <tbody>\n",
       "    <tr>\n",
       "      <th>0</th>\n",
       "      <td>0.605640</td>\n",
       "      <td>0.918487</td>\n",
       "      <td>0.905298</td>\n",
       "      <td>0.270837</td>\n",
       "      <td>0.925469</td>\n",
       "      <td>0.798383</td>\n",
       "      <td>0.814641</td>\n",
       "      <td>0.115432</td>\n",
       "      <td>0.494172</td>\n",
       "      <td>0.572726</td>\n",
       "      <td>0.923159</td>\n",
       "      <td>0.603152</td>\n",
       "      <td>0.863932</td>\n",
       "      <td>0</td>\n",
       "    </tr>\n",
       "    <tr>\n",
       "      <th>1</th>\n",
       "      <td>0.890226</td>\n",
       "      <td>0.555533</td>\n",
       "      <td>0.440264</td>\n",
       "      <td>0.537694</td>\n",
       "      <td>0.228497</td>\n",
       "      <td>0.515491</td>\n",
       "      <td>0.631250</td>\n",
       "      <td>0.677099</td>\n",
       "      <td>0.784332</td>\n",
       "      <td>0.199912</td>\n",
       "      <td>0.322902</td>\n",
       "      <td>0.630714</td>\n",
       "      <td>0.950625</td>\n",
       "      <td>0</td>\n",
       "    </tr>\n",
       "    <tr>\n",
       "      <th>2</th>\n",
       "      <td>0.545436</td>\n",
       "      <td>0.630346</td>\n",
       "      <td>0.988858</td>\n",
       "      <td>0.351225</td>\n",
       "      <td>0.699322</td>\n",
       "      <td>0.637016</td>\n",
       "      <td>0.841696</td>\n",
       "      <td>0.828762</td>\n",
       "      <td>0.743940</td>\n",
       "      <td>0.462467</td>\n",
       "      <td>0.574451</td>\n",
       "      <td>0.912272</td>\n",
       "      <td>0.551307</td>\n",
       "      <td>0</td>\n",
       "    </tr>\n",
       "    <tr>\n",
       "      <th>3</th>\n",
       "      <td>0.940381</td>\n",
       "      <td>0.912475</td>\n",
       "      <td>0.008500</td>\n",
       "      <td>0.112698</td>\n",
       "      <td>0.501584</td>\n",
       "      <td>0.707280</td>\n",
       "      <td>0.821104</td>\n",
       "      <td>0.564798</td>\n",
       "      <td>0.744142</td>\n",
       "      <td>0.347987</td>\n",
       "      <td>0.778279</td>\n",
       "      <td>0.736786</td>\n",
       "      <td>0.595458</td>\n",
       "      <td>0</td>\n",
       "    </tr>\n",
       "    <tr>\n",
       "      <th>4</th>\n",
       "      <td>0.712215</td>\n",
       "      <td>0.452527</td>\n",
       "      <td>0.942117</td>\n",
       "      <td>0.353932</td>\n",
       "      <td>0.265224</td>\n",
       "      <td>0.536412</td>\n",
       "      <td>0.773513</td>\n",
       "      <td>0.980110</td>\n",
       "      <td>0.654703</td>\n",
       "      <td>0.732917</td>\n",
       "      <td>0.932585</td>\n",
       "      <td>0.584428</td>\n",
       "      <td>0.465397</td>\n",
       "      <td>0</td>\n",
       "    </tr>\n",
       "  </tbody>\n",
       "</table>\n",
       "</div>"
      ],
      "text/plain": [
       "          0         1         2         3         4         5         6  \\\n",
       "0  0.605640  0.918487  0.905298  0.270837  0.925469  0.798383  0.814641   \n",
       "1  0.890226  0.555533  0.440264  0.537694  0.228497  0.515491  0.631250   \n",
       "2  0.545436  0.630346  0.988858  0.351225  0.699322  0.637016  0.841696   \n",
       "3  0.940381  0.912475  0.008500  0.112698  0.501584  0.707280  0.821104   \n",
       "4  0.712215  0.452527  0.942117  0.353932  0.265224  0.536412  0.773513   \n",
       "\n",
       "          7         8         9        10        11        12  label  \n",
       "0  0.115432  0.494172  0.572726  0.923159  0.603152  0.863932      0  \n",
       "1  0.677099  0.784332  0.199912  0.322902  0.630714  0.950625      0  \n",
       "2  0.828762  0.743940  0.462467  0.574451  0.912272  0.551307      0  \n",
       "3  0.564798  0.744142  0.347987  0.778279  0.736786  0.595458      0  \n",
       "4  0.980110  0.654703  0.732917  0.932585  0.584428  0.465397      0  "
      ]
     },
     "execution_count": 5,
     "metadata": {},
     "output_type": "execute_result"
    }
   ],
   "source": [
    "synth_data = pd.read_csv('synthetic_data.csv')\n",
    "synth_data.head()"
   ]
  },
  {
   "cell_type": "code",
   "execution_count": 6,
   "metadata": {},
   "outputs": [],
   "source": [
    "rf_shadow =  RandomForestClassifier(n_estimators=100)"
   ]
  },
  {
   "cell_type": "code",
   "execution_count": 7,
   "metadata": {},
   "outputs": [
    {
     "data": {
      "application/vnd.jupyter.widget-view+json": {
       "model_id": "272dd76bd89746b8af36d647a4fe9800",
       "version_major": 2,
       "version_minor": 0
      },
      "text/plain": [
       "HBox(children=(IntProgress(value=1, bar_style='info', max=1), HTML(value='')))"
      ]
     },
     "metadata": {},
     "output_type": "display_data"
    },
    {
     "name": "stdout",
     "output_type": "stream",
     "text": [
      "\n"
     ]
    }
   ],
   "source": [
    "sh = ShadowModels(5, synth_data, 3, rf_shadow)"
   ]
  },
  {
   "cell_type": "code",
   "execution_count": 8,
   "metadata": {},
   "outputs": [],
   "source": [
    "shadow_data = sh.results"
   ]
  },
  {
   "cell_type": "markdown",
   "metadata": {},
   "source": [
    "## Attacker"
   ]
  },
  {
   "cell_type": "markdown",
   "metadata": {},
   "source": [
    "Now that we have the shadow dataset we can train the attacker model. The attacker learner doesn't need to be the same as the target so pick the one that performs the best.\n",
    "\n",
    "`AttackModels` trains a model for each original class in shadow data (and in target model) with the in/out of training label as the target label."
   ]
  },
  {
   "cell_type": "code",
   "execution_count": 9,
   "metadata": {},
   "outputs": [],
   "source": [
    "rf_attack = RandomForestClassifier(n_estimators=100)"
   ]
  },
  {
   "cell_type": "code",
   "execution_count": 10,
   "metadata": {},
   "outputs": [],
   "source": [
    "attacker = AttackModels(target_classes=3, attack_learner=rf_attack)"
   ]
  },
  {
   "cell_type": "code",
   "execution_count": 13,
   "metadata": {},
   "outputs": [],
   "source": [
    "attacker.fit(shadow_data, learner_kwargs={})"
   ]
  },
  {
   "cell_type": "markdown",
   "metadata": {},
   "source": [
    "now lets test with all `X_train` and `X_test`. 50/50 "
   ]
  },
  {
   "cell_type": "code",
   "execution_count": 14,
   "metadata": {},
   "outputs": [],
   "source": [
    "train_idx = np.random.choice(np.arange(len(X_train)), len(X_test))\n",
    "X_train = X_train[train_idx]\n",
    "y_train = y_train[train_idx]"
   ]
  },
  {
   "cell_type": "code",
   "execution_count": 15,
   "metadata": {},
   "outputs": [
    {
     "name": "stdout",
     "output_type": "stream",
     "text": [
      "72 72\n"
     ]
    }
   ],
   "source": [
    "print(len(X_train), len(X_test))"
   ]
  },
  {
   "cell_type": "code",
   "execution_count": 16,
   "metadata": {},
   "outputs": [],
   "source": [
    "X_in = rf_target.predict_proba(X_train)\n",
    "res_in = attacker.predict(X_in, y_train, batch=True)"
   ]
  },
  {
   "cell_type": "code",
   "execution_count": 17,
   "metadata": {},
   "outputs": [],
   "source": [
    "X_out = rf_target.predict_proba(X_test)\n",
    "res_out = attacker.predict(X_out, y_test, batch=True)"
   ]
  },
  {
   "cell_type": "markdown",
   "metadata": {},
   "source": [
    "## Some metrics"
   ]
  },
  {
   "cell_type": "code",
   "execution_count": 18,
   "metadata": {},
   "outputs": [
    {
     "data": {
      "text/plain": [
       "0.9305555555555556"
      ]
     },
     "execution_count": 18,
     "metadata": {},
     "output_type": "execute_result"
    }
   ],
   "source": [
    "np.sum(np.argmax(res_in, axis=1)) / len(res_in)"
   ]
  },
  {
   "cell_type": "code",
   "execution_count": 19,
   "metadata": {},
   "outputs": [
    {
     "data": {
      "text/plain": [
       "0.3055555555555556"
      ]
     },
     "execution_count": 19,
     "metadata": {},
     "output_type": "execute_result"
    }
   ],
   "source": [
    "1 - np.sum(np.argmax(res_out, axis=1)) / len(res_out)"
   ]
  },
  {
   "cell_type": "markdown",
   "metadata": {},
   "source": [
    "### Precision, Recall and F-1 \n",
    "since the class balance is 50/50 a dumb classifier will achieve 0.5 precision, 1 recall and 0.67 f-1"
   ]
  },
  {
   "cell_type": "code",
   "execution_count": 20,
   "metadata": {},
   "outputs": [],
   "source": [
    "from sklearn.metrics import precision_score, recall_score, f1_score"
   ]
  },
  {
   "cell_type": "code",
   "execution_count": 21,
   "metadata": {},
   "outputs": [],
   "source": [
    "y_pred = np.concatenate((np.argmax(res_in, axis=1), np.argmax(res_out, axis=1)))\n",
    "y_true = np.concatenate((np.ones_like(y_train), np.zeros_like(y_test)))"
   ]
  },
  {
   "cell_type": "code",
   "execution_count": 22,
   "metadata": {},
   "outputs": [
    {
     "data": {
      "text/plain": [
       "0.5726495726495726"
      ]
     },
     "execution_count": 22,
     "metadata": {},
     "output_type": "execute_result"
    }
   ],
   "source": [
    "precision_score(y_true, y_pred)"
   ]
  },
  {
   "cell_type": "code",
   "execution_count": 23,
   "metadata": {},
   "outputs": [
    {
     "data": {
      "text/plain": [
       "0.9305555555555556"
      ]
     },
     "execution_count": 23,
     "metadata": {},
     "output_type": "execute_result"
    }
   ],
   "source": [
    "recall_score(y_true, y_pred)"
   ]
  },
  {
   "cell_type": "code",
   "execution_count": 24,
   "metadata": {},
   "outputs": [
    {
     "data": {
      "text/plain": [
       "0.708994708994709"
      ]
     },
     "execution_count": 24,
     "metadata": {},
     "output_type": "execute_result"
    }
   ],
   "source": [
    "f1_score(y_true, y_pred)"
   ]
  },
  {
   "cell_type": "markdown",
   "metadata": {},
   "source": [
    "Not bad for an out of the box setup"
   ]
  }
 ],
 "metadata": {
  "kernelspec": {
   "display_name": "Python 3",
   "language": "python",
   "name": "python3"
  },
  "language_info": {
   "codemirror_mode": {
    "name": "ipython",
    "version": 3
   },
   "file_extension": ".py",
   "mimetype": "text/x-python",
   "name": "python",
   "nbconvert_exporter": "python",
   "pygments_lexer": "ipython3",
   "version": "3.7.0"
  }
 },
 "nbformat": 4,
 "nbformat_minor": 2
}
