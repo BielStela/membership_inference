{
 "cells": [
  {
   "cell_type": "markdown",
   "metadata": {},
   "source": [
    "# Attacker model\n",
    "\n",
    "Here we will put it all togheter using the generated synthetic data from `data_synthesis_playground.ipynb`"
   ]
  },
  {
   "cell_type": "code",
   "execution_count": 1,
   "metadata": {},
   "outputs": [],
   "source": [
    "from mblearn import AttackModels, ShadowModels"
   ]
  },
  {
   "cell_type": "code",
   "execution_count": 2,
   "metadata": {},
   "outputs": [],
   "source": [
    "from sklearn.ensemble import RandomForestClassifier\n",
    "from sklearn.datasets import load_wine\n",
    "from sklearn.preprocessing import MinMaxScaler\n",
    "from sklearn.model_selection import train_test_split\n",
    "import pandas as pd\n",
    "import numpy as np"
   ]
  },
  {
   "cell_type": "markdown",
   "metadata": {},
   "source": [
    "First we need to make a target model (we will use RandomForest with 100 estimators)"
   ]
  },
  {
   "cell_type": "markdown",
   "metadata": {},
   "source": [
    "## Target model"
   ]
  },
  {
   "cell_type": "code",
   "execution_count": 3,
   "metadata": {},
   "outputs": [],
   "source": [
    "rf_target = RandomForestClassifier(n_estimators=100)\n",
    "data, target = load_wine(return_X_y=True)\n",
    "\n"
   ]
  },
  {
   "cell_type": "code",
   "execution_count": 4,
   "metadata": {},
   "outputs": [],
   "source": [
    "scaler = MinMaxScaler()\n",
    "data_std = scaler.fit_transform(data)\n",
    "\n",
    "# split to test membership in X_train\n",
    "X_train, X_test, y_train, y_test = train_test_split(data_std, target, test_size=0.2)\n",
    "\n",
    "rf_target.fit(X_train, y_train);"
   ]
  },
  {
   "cell_type": "markdown",
   "metadata": {},
   "source": [
    "## Shadow model\n",
    "\n",
    "Now train the Shadow models with synthetic data and the same learner (that's cheating a bit)"
   ]
  },
  {
   "cell_type": "code",
   "execution_count": 5,
   "metadata": {},
   "outputs": [
    {
     "data": {
      "text/html": [
       "<div>\n",
       "<style scoped>\n",
       "    .dataframe tbody tr th:only-of-type {\n",
       "        vertical-align: middle;\n",
       "    }\n",
       "\n",
       "    .dataframe tbody tr th {\n",
       "        vertical-align: top;\n",
       "    }\n",
       "\n",
       "    .dataframe thead th {\n",
       "        text-align: right;\n",
       "    }\n",
       "</style>\n",
       "<table border=\"1\" class=\"dataframe\">\n",
       "  <thead>\n",
       "    <tr style=\"text-align: right;\">\n",
       "      <th></th>\n",
       "      <th>0</th>\n",
       "      <th>1</th>\n",
       "      <th>2</th>\n",
       "      <th>3</th>\n",
       "      <th>4</th>\n",
       "      <th>5</th>\n",
       "      <th>6</th>\n",
       "      <th>7</th>\n",
       "      <th>8</th>\n",
       "      <th>9</th>\n",
       "      <th>10</th>\n",
       "      <th>11</th>\n",
       "      <th>12</th>\n",
       "      <th>label</th>\n",
       "    </tr>\n",
       "  </thead>\n",
       "  <tbody>\n",
       "    <tr>\n",
       "      <th>0</th>\n",
       "      <td>0.472479</td>\n",
       "      <td>0.802700</td>\n",
       "      <td>0.681440</td>\n",
       "      <td>0.418567</td>\n",
       "      <td>0.397988</td>\n",
       "      <td>0.763361</td>\n",
       "      <td>0.491796</td>\n",
       "      <td>0.423902</td>\n",
       "      <td>0.511174</td>\n",
       "      <td>0.671752</td>\n",
       "      <td>0.358635</td>\n",
       "      <td>0.973335</td>\n",
       "      <td>0.600171</td>\n",
       "      <td>0</td>\n",
       "    </tr>\n",
       "    <tr>\n",
       "      <th>1</th>\n",
       "      <td>0.890156</td>\n",
       "      <td>0.656366</td>\n",
       "      <td>0.389551</td>\n",
       "      <td>0.511145</td>\n",
       "      <td>0.491457</td>\n",
       "      <td>0.589019</td>\n",
       "      <td>0.596019</td>\n",
       "      <td>0.171550</td>\n",
       "      <td>0.052004</td>\n",
       "      <td>0.390024</td>\n",
       "      <td>0.522649</td>\n",
       "      <td>0.697107</td>\n",
       "      <td>0.438737</td>\n",
       "      <td>0</td>\n",
       "    </tr>\n",
       "    <tr>\n",
       "      <th>2</th>\n",
       "      <td>0.640766</td>\n",
       "      <td>0.087517</td>\n",
       "      <td>0.956563</td>\n",
       "      <td>0.137550</td>\n",
       "      <td>0.698057</td>\n",
       "      <td>0.201077</td>\n",
       "      <td>0.999131</td>\n",
       "      <td>0.678409</td>\n",
       "      <td>0.390072</td>\n",
       "      <td>0.796449</td>\n",
       "      <td>0.337422</td>\n",
       "      <td>0.765274</td>\n",
       "      <td>0.946437</td>\n",
       "      <td>0</td>\n",
       "    </tr>\n",
       "    <tr>\n",
       "      <th>3</th>\n",
       "      <td>0.525594</td>\n",
       "      <td>0.557560</td>\n",
       "      <td>0.428098</td>\n",
       "      <td>0.310923</td>\n",
       "      <td>0.401149</td>\n",
       "      <td>0.288159</td>\n",
       "      <td>0.962907</td>\n",
       "      <td>0.870142</td>\n",
       "      <td>0.404686</td>\n",
       "      <td>0.477274</td>\n",
       "      <td>0.783790</td>\n",
       "      <td>0.996116</td>\n",
       "      <td>0.468679</td>\n",
       "      <td>0</td>\n",
       "    </tr>\n",
       "    <tr>\n",
       "      <th>4</th>\n",
       "      <td>0.943780</td>\n",
       "      <td>0.413054</td>\n",
       "      <td>0.972705</td>\n",
       "      <td>0.473483</td>\n",
       "      <td>0.979340</td>\n",
       "      <td>0.968235</td>\n",
       "      <td>0.563845</td>\n",
       "      <td>0.711525</td>\n",
       "      <td>0.532065</td>\n",
       "      <td>0.210514</td>\n",
       "      <td>0.372955</td>\n",
       "      <td>0.483156</td>\n",
       "      <td>0.594460</td>\n",
       "      <td>0</td>\n",
       "    </tr>\n",
       "  </tbody>\n",
       "</table>\n",
       "</div>"
      ],
      "text/plain": [
       "          0         1         2         3         4         5         6  \\\n",
       "0  0.472479  0.802700  0.681440  0.418567  0.397988  0.763361  0.491796   \n",
       "1  0.890156  0.656366  0.389551  0.511145  0.491457  0.589019  0.596019   \n",
       "2  0.640766  0.087517  0.956563  0.137550  0.698057  0.201077  0.999131   \n",
       "3  0.525594  0.557560  0.428098  0.310923  0.401149  0.288159  0.962907   \n",
       "4  0.943780  0.413054  0.972705  0.473483  0.979340  0.968235  0.563845   \n",
       "\n",
       "          7         8         9        10        11        12  label  \n",
       "0  0.423902  0.511174  0.671752  0.358635  0.973335  0.600171      0  \n",
       "1  0.171550  0.052004  0.390024  0.522649  0.697107  0.438737      0  \n",
       "2  0.678409  0.390072  0.796449  0.337422  0.765274  0.946437      0  \n",
       "3  0.870142  0.404686  0.477274  0.783790  0.996116  0.468679      0  \n",
       "4  0.711525  0.532065  0.210514  0.372955  0.483156  0.594460      0  "
      ]
     },
     "execution_count": 5,
     "metadata": {},
     "output_type": "execute_result"
    }
   ],
   "source": [
    "synth_data = pd.read_csv('synthetic_data.csv')\n",
    "synth_data.head()"
   ]
  },
  {
   "cell_type": "code",
   "execution_count": 6,
   "metadata": {},
   "outputs": [],
   "source": [
    "rf_shadow =  RandomForestClassifier(n_estimators=100)"
   ]
  },
  {
   "cell_type": "code",
   "execution_count": 7,
   "metadata": {},
   "outputs": [
    {
     "data": {
      "application/vnd.jupyter.widget-view+json": {
       "model_id": "d45772fb8c874eb69ca3309baba80262",
       "version_major": 2,
       "version_minor": 0
      },
      "text/plain": [
       "HBox(children=(IntProgress(value=1, bar_style='info', max=1), HTML(value='')))"
      ]
     },
     "metadata": {},
     "output_type": "display_data"
    },
    {
     "name": "stdout",
     "output_type": "stream",
     "text": [
      "\n"
     ]
    }
   ],
   "source": [
    "sh = ShadowModels(5, synth_data, 3, rf_shadow)"
   ]
  },
  {
   "cell_type": "code",
   "execution_count": 8,
   "metadata": {},
   "outputs": [],
   "source": [
    "shadow_data = sh.results"
   ]
  },
  {
   "cell_type": "markdown",
   "metadata": {},
   "source": [
    "## Attacker"
   ]
  },
  {
   "cell_type": "markdown",
   "metadata": {},
   "source": [
    "Now that we have the shadow dataset we can train the attacker model. The attacker learner doesn't need to be the same as the target so pick the one that performs the best.\n",
    "\n",
    "`AttackModels` trains a model for each original class in shadow data (and in target model) with the in/out of training label as the target label."
   ]
  },
  {
   "cell_type": "code",
   "execution_count": 9,
   "metadata": {},
   "outputs": [],
   "source": [
    "rf_attack = RandomForestClassifier(n_estimators=100)"
   ]
  },
  {
   "cell_type": "code",
   "execution_count": 10,
   "metadata": {},
   "outputs": [],
   "source": [
    "attacker = AttackModels(target_classes=3, attack_learner=rf_attack)"
   ]
  },
  {
   "cell_type": "code",
   "execution_count": 11,
   "metadata": {},
   "outputs": [],
   "source": [
    "attacker.fit(shadow_data)"
   ]
  },
  {
   "cell_type": "markdown",
   "metadata": {},
   "source": [
    "now lets test with all `X_train` and `X_test`"
   ]
  },
  {
   "cell_type": "code",
   "execution_count": 12,
   "metadata": {},
   "outputs": [],
   "source": [
    "X_in = rf_target.predict_proba(X_train)\n",
    "\n",
    "res_in = attacker.predict(X_in, y_train, batch=True)"
   ]
  },
  {
   "cell_type": "code",
   "execution_count": 13,
   "metadata": {},
   "outputs": [],
   "source": [
    "X_out = rf_target.predict_proba(X_test)\n",
    "\n",
    "res_out = attacker.predict(X_out, y_test, batch=True)"
   ]
  },
  {
   "cell_type": "code",
   "execution_count": 20,
   "metadata": {},
   "outputs": [
    {
     "data": {
      "text/plain": [
       "1.0"
      ]
     },
     "execution_count": 20,
     "metadata": {},
     "output_type": "execute_result"
    }
   ],
   "source": [
    "np.sum(np.argmax(res_in, axis=1)) / len(res_in)"
   ]
  },
  {
   "cell_type": "code",
   "execution_count": 21,
   "metadata": {},
   "outputs": [
    {
     "data": {
      "text/plain": [
       "0.8888888888888888"
      ]
     },
     "execution_count": 21,
     "metadata": {},
     "output_type": "execute_result"
    }
   ],
   "source": [
    "np.sum(np.argmax(res_out, axis=1)) / len(res_out)"
   ]
  },
  {
   "cell_type": "markdown",
   "metadata": {},
   "source": [
    "Weeeel that doesn't looks like it is working correctly... but it is more confident with the data that was in the training of the target Model which is something :_)"
   ]
  }
 ],
 "metadata": {
  "kernelspec": {
   "display_name": "Python 3",
   "language": "python",
   "name": "python3"
  },
  "language_info": {
   "codemirror_mode": {
    "name": "ipython",
    "version": 3
   },
   "file_extension": ".py",
   "mimetype": "text/x-python",
   "name": "python",
   "nbconvert_exporter": "python",
   "pygments_lexer": "ipython3",
   "version": "3.7.0"
  }
 },
 "nbformat": 4,
 "nbformat_minor": 2
}
