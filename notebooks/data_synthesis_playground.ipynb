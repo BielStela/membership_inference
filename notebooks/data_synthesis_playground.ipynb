{
 "cells": [
  {
   "cell_type": "markdown",
   "metadata": {},
   "source": [
    "# Membership Inference Attacks Against Machine Learning Models"
   ]
  },
  {
   "cell_type": "markdown",
   "metadata": {},
   "source": [
    "Elements of the adversarial system:\n",
    "* Shadow model\n",
    "* Attack model\n",
    "\n",
    "###  Shadow Model\n",
    "\n",
    "The adversary trains $k$ shadow models, each on a dataset (shadow data) that is similar\n",
    "in format and distribution as the __target model's private training set__.\n",
    "\n",
    "Generate shadow data drawing samples from the population where the target model's training data\n",
    "are drawn from. The shadow model must be __trained in a similar fashion as the target model__.\n",
    "The larger the number of shadow models, the better the accuracy of the attack model.\n",
    "\n",
    "### Attack Model\n",
    "\n",
    "The adversary queries each shadow model with its own disjoint training and test dataset which are of the __same size__."
   ]
  },
  {
   "cell_type": "markdown",
   "metadata": {},
   "source": [
    "# Generating training data for shadow models\n",
    "\n",
    "The adversary needs training data that is distributed similarly to the target model's training data. \n",
    "Shoki's proposed methods are:\n",
    "\n",
    "## Model-based synthesis:\n",
    "*implementation can be found at data_synthesis.py*\n",
    "\n",
    "Attacker does not have real raining data nor any statistics abouts its distribution.\n",
    "Generate synthetic data for the shadow model using the target model itself. The intuition is that records that are classified by the target model \n",
    "with high confidence should be statistically similar to the target's training training dataset.\n",
    "\n",
    "Two phases of synthesis process:\n",
    "1. _Search_ using a hill-climbing algorithm the space of possible data records to find inputs that are classified by the target model with high confidence.\n",
    "2. _Sample_ synthetic data from records. After synthetised a record, repeat until shadow dataset is full\n",
    "\n",
    ">First fix class $c$ for which attacker wants to generate synthetic data.\n",
    "Initialize randomly a data record $\\mathbf{x}$.\n",
    "The attacker must known the syntactic format of data records (number of features and numerical range of each feature).\n",
    "Sample the value for each feature uniformly at random from among all possible values of that feature.\n",
    "\n",
    ">A proposed record is _accepted_ only if it increases the [hill-climbing](https://en.wikipedia.org/wiki/Hill_climbing) objective: the probability of\n",
    "being classified by the target model as class $c$.\n",
    "\n",
    ">Each iteration involves proposing a new candidate record by changing $k$ randomly selected features of the latest accepted record $\\mathbf{x^∗}$.\n",
    "This is done by flipping binary features or resampling new values for features of other types.\n",
    "We initialize $k$ to $k_{max}$ and divide it by 2 when $rej_{max}$ subsequent proposals are rejected. This controls the diameter of search around the\n",
    "accepted record in order to propose a new record. We set the\n",
    "minimum value of $k$ to $k_{min}$.\n",
    "This controls the speed of the search for new records with a potentially higher classification\n",
    "probability $y_c$.\n",
    "\n",
    ">The second, sampling phase starts when the target model’s\n",
    "probability $y_c$ that the proposed data record is classified as belonging to class $c$ is larger than the probabilities for all\n",
    "other classes and also larger than a threshold $conf_{min}$.\n",
    "This ensures that the predicted label for the record is $c$, and that the target model is sufficiently confident in its label prediction. We\n",
    "select such record for the synthetic dataset with probability $y_{c}^∗$\n",
    "and, if selection fails, repeat until a record is selected.\n",
    "\n",
    ">This synthesis procedure works only if the adversary can\n",
    "efficiently explore the space of possible inputs and discover\n",
    "inputs that are classified by the target model with high confi-\n",
    "dence. For example, it may not work if the inputs are high-\n",
    "resolution images and the target model performs a complex\n",
    "image classification task.\n"
   ]
  },
  {
   "cell_type": "markdown",
   "metadata": {},
   "source": [
    "### Example with wine data:"
   ]
  },
  {
   "cell_type": "code",
   "execution_count": 108,
   "metadata": {},
   "outputs": [],
   "source": [
    "from sklearn.ensemble import RandomForestClassifier\n",
    "from sklearn.datasets import load_wine\n",
    "from sklearn.preprocessing import MinMaxScaler\n",
    "import numpy as np\n",
    "import pandas as pd\n",
    "\n",
    "import matplotlib.pyplot as plt\n",
    "import seaborn as sns\n",
    "sns.set(style='white')"
   ]
  },
  {
   "cell_type": "markdown",
   "metadata": {},
   "source": [
    "get data, normalize and fit RF model"
   ]
  },
  {
   "cell_type": "code",
   "execution_count": 17,
   "metadata": {},
   "outputs": [],
   "source": [
    "rf = RandomForestClassifier(n_estimators=100)\n",
    "data, target = load_wine(return_X_y=True)"
   ]
  },
  {
   "cell_type": "code",
   "execution_count": 18,
   "metadata": {},
   "outputs": [],
   "source": [
    "scaler = MinMaxScaler()\n",
    "data_std = scaler.fit_transform(data)"
   ]
  },
  {
   "cell_type": "code",
   "execution_count": 19,
   "metadata": {},
   "outputs": [],
   "source": [
    "rf.fit(data_std, target);"
   ]
  },
  {
   "cell_type": "markdown",
   "metadata": {},
   "source": [
    "Check if synthesized data belongs to the fixed class "
   ]
  },
  {
   "cell_type": "code",
   "execution_count": 53,
   "metadata": {},
   "outputs": [],
   "source": [
    "# run the script where I have all the functions\n",
    "# synthesize() and synthesize_batch()\n",
    "%run ../data_synthesis.py"
   ]
  },
  {
   "cell_type": "code",
   "execution_count": 50,
   "metadata": {},
   "outputs": [],
   "source": [
    "# class we want the record to belong to\n",
    "fixed_class = 1\n",
    "# synth record\n",
    "x = synthesize(rf, fixed_class=fixed_class, k_max=3)\n",
    "# check if synth record is classified correctly\n",
    "assert fixed_class == np.argmax(rf.predict_proba(x))"
   ]
  },
  {
   "cell_type": "markdown",
   "metadata": {},
   "source": [
    "Now check if batch mode works"
   ]
  },
  {
   "cell_type": "code",
   "execution_count": 141,
   "metadata": {},
   "outputs": [
    {
     "data": {
      "application/vnd.jupyter.widget-view+json": {
       "model_id": "935de00f7f5745d0a2252d7fd160f3df",
       "version_major": 2,
       "version_minor": 0
      },
      "text/plain": [
       "HBox(children=(IntProgress(value=0, max=50), HTML(value='')))"
      ]
     },
     "metadata": {},
     "output_type": "display_data"
    }
   ],
   "source": [
    "# Class to drawn samples from\n",
    "fixed_class = 0\n",
    "# num of records\n",
    "n = 50\n",
    "\n",
    "x = synthesize_batch(rf, fixed_class, n_records=n, k_max=3)\n",
    "# some D-fence:\n",
    "assert all(np.argmax(rf.predict_proba(x), axis=1) == fixed_class)"
   ]
  },
  {
   "cell_type": "markdown",
   "metadata": {},
   "source": [
    "Compare synthetic data and real data in a plot"
   ]
  },
  {
   "cell_type": "code",
   "execution_count": 142,
   "metadata": {},
   "outputs": [],
   "source": [
    "from sklearn.decomposition import PCA "
   ]
  },
  {
   "cell_type": "code",
   "execution_count": 143,
   "metadata": {},
   "outputs": [],
   "source": [
    "# concat original and synthetic data\n",
    "all_data = np.concatenate((data_std, x))\n",
    "all_target = np.concatenate((target, [3]*len(x)))"
   ]
  },
  {
   "cell_type": "code",
   "execution_count": 144,
   "metadata": {},
   "outputs": [],
   "source": [
    "pca = PCA()\n",
    "data_proj = pca.fit_transform(all_data)"
   ]
  },
  {
   "cell_type": "code",
   "execution_count": 145,
   "metadata": {},
   "outputs": [],
   "source": [
    "# Make a DataFrame with pca projection\n",
    "all_df = pd.DataFrame(data_proj[:,:2], columns=['x', 'y'])\n",
    "all_df['label'] = all_target\n",
    "target_cat = {0:'cat0', 1:'cat1', 2:'cat2', 3:f'synth{fixed_class}'}\n",
    "all_df.label = all_df.label.map(target_cat)"
   ]
  },
  {
   "cell_type": "code",
   "execution_count": 146,
   "metadata": {},
   "outputs": [
    {
     "data": {
      "text/plain": [
       "<matplotlib.axes._subplots.AxesSubplot at 0x7f3b961216d8>"
      ]
     },
     "execution_count": 146,
     "metadata": {},
     "output_type": "execute_result"
    },
    {
     "data": {
      "image/png": "[encoded data removed]",
      "text/plain": [
       "<Figure size 720x504 with 1 Axes>"
      ]
     },
     "metadata": {},
     "output_type": "display_data"
    }
   ],
   "source": [
    "plt.figure(figsize=(10,7))\n",
    "sns.scatterplot('x', 'y', hue='label', data=all_df, palette='Set1')"
   ]
  },
  {
   "cell_type": "markdown",
   "metadata": {},
   "source": [
    "looks good to me (งᗒ▾ᗕ)ง"
   ]
  },
  {
   "cell_type": "markdown",
   "metadata": {},
   "source": [
    "---"
   ]
  },
  {
   "cell_type": "markdown",
   "metadata": {},
   "source": [
    "## Statistics-based synthesis\n",
    "\n",
    ">The attacker may have some statistical information about the population from which the target\n",
    "model’s training data was drawn.\n",
    "For example, the attacker may have prior knowledge of the marginal distributions of different features.\n",
    "In our experiments, we generate synthetic training records for the shadow models by independently\n",
    "sampling the value of each feature from its own marginal distribution.\n",
    "The resulting attack models are very effective."
   ]
  },
  {
   "cell_type": "markdown",
   "metadata": {},
   "source": [
    "## Noisy real data\n",
    "\n",
    ">The attacker may have access to some data\n",
    "that is similar to the target model’s training data and can be\n",
    "considered as a “noisy” version thereof. In our experiments\n",
    "with location datasets, we simulate this by flipping the (binary)\n",
    "values of 10% or 20% randomly selected features,\n",
    "then raining our shadow models on the resulting noisy dataset.\n",
    "This scenario models the case where the training data for the\n",
    "target and shadow models are not sampled from exactly the\n",
    "same population, or else sampled in a non-uniform way."
   ]
  }
 ],
 "metadata": {
  "kernelspec": {
   "display_name": "Python 3",
   "language": "python",
   "name": "python3"
  },
  "language_info": {
   "codemirror_mode": {
    "name": "ipython",
    "version": 3
   },
   "file_extension": ".py",
   "mimetype": "text/x-python",
   "name": "python",
   "nbconvert_exporter": "python",
   "pygments_lexer": "ipython3",
   "version": "3.7.0"
  }
 },
 "nbformat": 4,
 "nbformat_minor": 2
}
