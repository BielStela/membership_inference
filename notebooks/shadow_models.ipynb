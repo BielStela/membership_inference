{
 "cells": [
  {
   "cell_type": "markdown",
   "metadata": {},
   "source": [
    "#  Shadow Model\n",
    "\n",
    "The adversary trains $k$ shadow models $f^i_{shadow}()$, each on a dataset (shadow data) that is similar\n",
    "in format and distribution as the __target model's private training set__.\n",
    "\n",
    "Generate shadow data drawing samples from the population where the target model's training data\n",
    "are drawn from. The shadow model must be __trained in a similar fashion as the target model__.\n",
    "The larger the number of shadow models, the better the accuracy of the attack model."
   ]
  },
  {
   "cell_type": "code",
   "execution_count": null,
   "metadata": {},
   "outputs": [],
   "source": []
  }
 ],
 "metadata": {
  "kernelspec": {
   "display_name": "Python 3",
   "language": "python",
   "name": "python3"
  },
  "language_info": {
   "codemirror_mode": {
    "name": "ipython",
    "version": 3
   },
   "file_extension": ".py",
   "mimetype": "text/x-python",
   "name": "python",
   "nbconvert_exporter": "python",
   "pygments_lexer": "ipython3",
   "version": "3.7.0"
  }
 },
 "nbformat": 4,
 "nbformat_minor": 2
}
